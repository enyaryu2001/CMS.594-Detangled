{
  "metadata": {
    "language_info": {
      "codemirror_mode": {
        "name": "python",
        "version": 3
      },
      "file_extension": ".py",
      "mimetype": "text/x-python",
      "name": "python",
      "nbconvert_exporter": "python",
      "pygments_lexer": "ipython3",
      "version": "3.8"
    },
    "kernelspec": {
      "name": "python",
      "display_name": "Python (Pyodide)",
      "language": "python"
    }
  },
  "nbformat_minor": 4,
  "nbformat": 4,
  "cells": [
    {
      "cell_type": "markdown",
      "source": "setup environment",
      "metadata": {}
    },
    {
      "cell_type": "code",
      "source": "import pandas as pd\nimport numpy as np",
      "metadata": {
        "trusted": true
      },
      "execution_count": null,
      "outputs": []
    },
    {
      "cell_type": "markdown",
      "source": "read csv file\nextract concepts and students",
      "metadata": {}
    },
    {
      "cell_type": "code",
      "source": "fname = r''\ndf = pd.read_csv(fname)\nconcepts = list(df.columns[1:])\nstudents = list(df[\"student\"])\nid = df.index.tolist()\ntot_stud = len(id)",
      "metadata": {
        "trusted": true
      },
      "execution_count": null,
      "outputs": []
    },
    {
      "cell_type": "markdown",
      "source": "inital test breakdown: find students who lost points in each category\nbreakdown percentage: % of total students who lost points in each category",
      "metadata": {}
    },
    {
      "cell_type": "code",
      "source": "\ntest_bd = {}\nfor idx in concepts:\n    test_bd[idx] = np.array([])\n    for i in id:\n        if f'{df[idx][i]}' != str(0):\n            test_bd[idx] = np.append(test_bd[idx], f'{df[\"student\"][i]}').tolist()\n\ntest_bd_pct = {}\nfor idx in test_bd:\n    test_bd_pct[idx] = round(len(test_bd[idx])/tot_stud, 2)\n    ",
      "metadata": {},
      "execution_count": null,
      "outputs": []
    },
    {
      "cell_type": "markdown",
      "source": "topic-based breakdown: find correlations within each topic",
      "metadata": {}
    },
    {
      "cell_type": "code",
      "source": "topic_bd = []\ntopic_bd_pct = {}\nfor idx in concepts:\n    s = len(test_bd[idx])\n    temp = [x for x in concepts if x != idx]\n    for i in range(len(temp)):\n        corr = [v for v in test_bd[idx] if v in test_bd[temp[i]]]\n        n = f'{idx}_{temp[i]}'\n        topic_bd.append({n:corr})\n        topic_bd_pct[n] = round(len(corr)/s, 2)\n",
      "metadata": {},
      "execution_count": null,
      "outputs": []
    },
    {
      "cell_type": "markdown",
      "source": "displaying visualizations\n",
      "metadata": {}
    },
    {
      "cell_type": "code",
      "source": "",
      "metadata": {},
      "execution_count": null,
      "outputs": []
    }
  ]
}